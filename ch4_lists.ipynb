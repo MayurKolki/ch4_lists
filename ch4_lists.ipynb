{
 "cells": [
  {
   "cell_type": "markdown",
   "metadata": {},
   "source": [
    "# ch4 : lists"
   ]
  },
  {
   "cell_type": "raw",
   "metadata": {},
   "source": [
    "# property of list\n",
    "# represented as [ ]\n",
    "# mutable objects"
   ]
  },
  {
   "cell_type": "code",
   "execution_count": 1,
   "metadata": {},
   "outputs": [
    {
     "name": "stdout",
     "output_type": "stream",
     "text": [
      "['jan', 'feb', 'mar', 'apr', 'may', 'jun']\n"
     ]
    },
    {
     "data": {
      "text/plain": [
       "list"
      ]
     },
     "execution_count": 1,
     "metadata": {},
     "output_type": "execute_result"
    }
   ],
   "source": [
    "months = ['jan','feb','mar','apr','may','jun']\n",
    "print(months)\n",
    "type(months)\n",
    "\n"
   ]
  },
  {
   "cell_type": "code",
   "execution_count": 2,
   "metadata": {},
   "outputs": [
    {
     "data": {
      "text/plain": [
       "6"
      ]
     },
     "execution_count": 2,
     "metadata": {},
     "output_type": "execute_result"
    }
   ],
   "source": [
    "len(months)"
   ]
  },
  {
   "cell_type": "code",
   "execution_count": 3,
   "metadata": {},
   "outputs": [
    {
     "data": {
      "text/plain": [
       "'jan'"
      ]
     },
     "execution_count": 3,
     "metadata": {},
     "output_type": "execute_result"
    }
   ],
   "source": [
    "# access the list - use the index value\n",
    "months[0]\n"
   ]
  },
  {
   "cell_type": "code",
   "execution_count": 4,
   "metadata": {},
   "outputs": [
    {
     "data": {
      "text/plain": [
       "['jan', 'feb', 'mar']"
      ]
     },
     "execution_count": 4,
     "metadata": {},
     "output_type": "execute_result"
    }
   ],
   "source": [
    "# range of values - get the first 3 elements\n",
    "months[0:3]\n"
   ]
  },
  {
   "cell_type": "code",
   "execution_count": 5,
   "metadata": {},
   "outputs": [
    {
     "data": {
      "text/plain": [
       "['jan', 'mar', 'may']"
      ]
     },
     "execution_count": 5,
     "metadata": {},
     "output_type": "execute_result"
    }
   ],
   "source": [
    "# skip by 2, starting from 0; end at the last element\n",
    "months[::2]"
   ]
  },
  {
   "cell_type": "code",
   "execution_count": 6,
   "metadata": {},
   "outputs": [
    {
     "data": {
      "text/plain": [
       "'jun'"
      ]
     },
     "execution_count": 6,
     "metadata": {},
     "output_type": "execute_result"
    }
   ],
   "source": [
    "# last value\n",
    "months[len(months)-1]\n"
   ]
  },
  {
   "cell_type": "code",
   "execution_count": 7,
   "metadata": {},
   "outputs": [
    {
     "data": {
      "text/plain": [
       "'jun'"
      ]
     },
     "execution_count": 7,
     "metadata": {},
     "output_type": "execute_result"
    }
   ],
   "source": [
    "months[-1]"
   ]
  },
  {
   "cell_type": "code",
   "execution_count": 8,
   "metadata": {},
   "outputs": [
    {
     "name": "stdout",
     "output_type": "stream",
     "text": [
      "['jan', 'feb', 'mar', 'apr', 'may', 'jun', 'jul', 'aug', 'sep']\n"
     ]
    }
   ],
   "source": [
    "# add values to a list\n",
    "months.append('jul')\n",
    "months.append('aug')\n",
    "months.append('sep')\n",
    "print(months)"
   ]
  },
  {
   "cell_type": "code",
   "execution_count": 9,
   "metadata": {},
   "outputs": [
    {
     "data": {
      "text/plain": [
       "['jan', 'dec', 'feb', 'mar', 'apr', 'may', 'jun', 'jul', 'aug', 'sep']"
      ]
     },
     "execution_count": 9,
     "metadata": {},
     "output_type": "execute_result"
    }
   ],
   "source": [
    "# add element at a specific location\n",
    "months.insert(1,'dec')\n",
    "months"
   ]
  },
  {
   "cell_type": "raw",
   "metadata": {},
   "source": [
    "# add the month 'oct' in between 'may' and 'jun'\n",
    "\n"
   ]
  },
  {
   "cell_type": "code",
   "execution_count": 10,
   "metadata": {},
   "outputs": [
    {
     "name": "stdout",
     "output_type": "stream",
     "text": [
      "['jan', 'dec', 'feb', 'mar', 'apr', 'may', 'oct', 'jun', 'jul', 'aug', 'sep']\n"
     ]
    }
   ],
   "source": [
    "# first find the index position of 'jun'\n",
    "months.insert(months.index('jun'), 'oct')\n",
    "print(months)\n",
    "\n"
   ]
  },
  {
   "cell_type": "code",
   "execution_count": 11,
   "metadata": {},
   "outputs": [
    {
     "name": "stdout",
     "output_type": "stream",
     "text": [
      "['jan', 'dec', 'feb', 'nov', 'mar', 'apr', 'may', 'oct', 'jun', 'jul', 'aug', 'sep']\n"
     ]
    }
   ],
   "source": [
    "# add 'nov' after 'feb'\n",
    "months.insert(months.index('feb')+1, 'nov')\n",
    "print(months)\n",
    "\n",
    "\n"
   ]
  },
  {
   "cell_type": "code",
   "execution_count": 12,
   "metadata": {},
   "outputs": [
    {
     "name": "stdout",
     "output_type": "stream",
     "text": [
      "['jan', 'december', 'feb', 'nov', 'mar', 'apr', 'may', 'oct', 'jun', 'jul', 'aug', 'sep']\n"
     ]
    }
   ],
   "source": [
    "# change values in a list\n",
    "# eg: change 'dec' to 'december'\n",
    "\n",
    "months[months.index('dec')] = 'december'\n",
    "print(months)"
   ]
  },
  {
   "cell_type": "code",
   "execution_count": 13,
   "metadata": {},
   "outputs": [
    {
     "ename": "IndexError",
     "evalue": "list index out of range",
     "output_type": "error",
     "traceback": [
      "\u001b[1;31m---------------------------------------------------------------------------\u001b[0m",
      "\u001b[1;31mIndexError\u001b[0m                                Traceback (most recent call last)",
      "\u001b[1;32m<ipython-input-13-2182fc84d4cd>\u001b[0m in \u001b[0;36m<module>\u001b[1;34m\u001b[0m\n\u001b[0;32m      1\u001b[0m \u001b[1;31m# if you try to access an index pos that is not existing, it gives an error\u001b[0m\u001b[1;33m\u001b[0m\u001b[1;33m\u001b[0m\u001b[1;33m\u001b[0m\u001b[0m\n\u001b[1;32m----> 2\u001b[1;33m \u001b[0mmonths\u001b[0m\u001b[1;33m[\u001b[0m\u001b[1;36m15\u001b[0m\u001b[1;33m]\u001b[0m\u001b[1;33m\u001b[0m\u001b[1;33m\u001b[0m\u001b[0m\n\u001b[0m",
      "\u001b[1;31mIndexError\u001b[0m: list index out of range"
     ]
    }
   ],
   "source": [
    "# if you try to access an index pos that is not existing, it gives an error\n",
    "months[15]"
   ]
  },
  {
   "cell_type": "code",
   "execution_count": 14,
   "metadata": {},
   "outputs": [
    {
     "name": "stdout",
     "output_type": "stream",
     "text": [
      "['jan', 'feb', 'nov', 'mar', 'apr', 'may', 'oct', 'jun', 'jul', 'aug', 'sep']\n"
     ]
    }
   ],
   "source": [
    "# delete element from a list\n",
    "# method 1\n",
    "del months[months.index('december')]\n",
    "print(months)\n"
   ]
  },
  {
   "cell_type": "code",
   "execution_count": 15,
   "metadata": {},
   "outputs": [
    {
     "name": "stdout",
     "output_type": "stream",
     "text": [
      "['feb', 'nov', 'mar', 'apr', 'may', 'oct', 'jun', 'jul', 'aug', 'sep']\n"
     ]
    }
   ],
   "source": [
    "# method 2\n",
    "months.remove('jan')\n",
    "print(months)\n"
   ]
  },
  {
   "cell_type": "code",
   "execution_count": 16,
   "metadata": {},
   "outputs": [
    {
     "name": "stdout",
     "output_type": "stream",
     "text": [
      "['feb', 'nov', 'mar', 'apr', 'oct', 'jun', 'jul', 'aug', 'sep']\n"
     ]
    }
   ],
   "source": [
    "# method 3\n",
    "months.pop(months.index('may'))\n",
    "print(months)\n"
   ]
  },
  {
   "cell_type": "code",
   "execution_count": 17,
   "metadata": {},
   "outputs": [
    {
     "data": {
      "text/plain": [
       "['apr', 'aug', 'feb', 'jul', 'jun', 'mar', 'nov', 'oct', 'sep']"
      ]
     },
     "execution_count": 17,
     "metadata": {},
     "output_type": "execute_result"
    }
   ],
   "source": [
    "# sort a list\n",
    "# default sort order = ascending\n",
    "months.sort()\n",
    "months\n"
   ]
  },
  {
   "cell_type": "code",
   "execution_count": 18,
   "metadata": {},
   "outputs": [
    {
     "data": {
      "text/plain": [
       "['sep', 'oct', 'nov', 'mar', 'jun', 'jul', 'feb', 'aug', 'apr']"
      ]
     },
     "execution_count": 18,
     "metadata": {},
     "output_type": "execute_result"
    }
   ],
   "source": [
    "# descending sort order\n",
    "months.sort(reverse=True)\n",
    "months\n"
   ]
  },
  {
   "cell_type": "raw",
   "metadata": {},
   "source": [
    "# heterogenous list\n",
    "# packing and unpacking a list\n",
    "\n",
    "# pack -> create the list\n",
    "# country_id, country_name, capital, continent,pop,index,democracy\n",
    "\n"
   ]
  },
  {
   "cell_type": "code",
   "execution_count": 19,
   "metadata": {},
   "outputs": [
    {
     "name": "stdout",
     "output_type": "stream",
     "text": [
      "[91, 'India', 'New Delhi', 'Asia', 120, 37.2, True]\n"
     ]
    }
   ],
   "source": [
    "rec = [91,'India','New Delhi','Asia',120,37.2,True]\n",
    "print(rec)\n"
   ]
  },
  {
   "cell_type": "code",
   "execution_count": 20,
   "metadata": {},
   "outputs": [
    {
     "data": {
      "text/plain": [
       "91"
      ]
     },
     "execution_count": 20,
     "metadata": {},
     "output_type": "execute_result"
    }
   ],
   "source": [
    "rec[0]\n"
   ]
  },
  {
   "cell_type": "code",
   "execution_count": 21,
   "metadata": {},
   "outputs": [
    {
     "data": {
      "text/plain": [
       "'India'"
      ]
     },
     "execution_count": 21,
     "metadata": {},
     "output_type": "execute_result"
    }
   ],
   "source": [
    "rec[1]\n",
    "\n"
   ]
  },
  {
   "cell_type": "code",
   "execution_count": 22,
   "metadata": {},
   "outputs": [
    {
     "name": "stdout",
     "output_type": "stream",
     "text": [
      "91\n",
      "India\n",
      "New Delhi\n",
      "Asia\n",
      "120\n",
      "37.2\n",
      "True\n"
     ]
    }
   ],
   "source": [
    "# unpack the list\n",
    "cid,name,cap,cont,pop,ndx,demo = rec\n",
    "print(cid)\n",
    "print(name)\n",
    "print(cap)\n",
    "print(cont)\n",
    "print(pop)\n",
    "print(ndx)\n",
    "print(demo)\n"
   ]
  },
  {
   "cell_type": "code",
   "execution_count": 23,
   "metadata": {},
   "outputs": [],
   "source": [
    "# number list\n",
    "n1 = list(range(1,5))\n",
    "n2 = list(range(10,20))\n"
   ]
  },
  {
   "cell_type": "code",
   "execution_count": 24,
   "metadata": {},
   "outputs": [
    {
     "data": {
      "text/plain": [
       "list"
      ]
     },
     "execution_count": 24,
     "metadata": {},
     "output_type": "execute_result"
    }
   ],
   "source": [
    "# join/append lists from existing lists\n",
    "n3 = n1 + n2\n",
    "type(n3)\n"
   ]
  },
  {
   "cell_type": "code",
   "execution_count": 26,
   "metadata": {},
   "outputs": [
    {
     "data": {
      "text/plain": [
       "14"
      ]
     },
     "execution_count": 26,
     "metadata": {},
     "output_type": "execute_result"
    }
   ],
   "source": [
    "len(n3)\n",
    "\n"
   ]
  },
  {
   "cell_type": "code",
   "execution_count": 27,
   "metadata": {},
   "outputs": [
    {
     "name": "stdout",
     "output_type": "stream",
     "text": [
      "[1, 2, 3, 4, 10, 11, 12, 13, 14, 15, 16, 17, 18, 19]\n"
     ]
    }
   ],
   "source": [
    "print(n3)"
   ]
  },
  {
   "cell_type": "code",
   "execution_count": 28,
   "metadata": {},
   "outputs": [
    {
     "data": {
      "text/plain": [
       "19"
      ]
     },
     "execution_count": 28,
     "metadata": {},
     "output_type": "execute_result"
    }
   ],
   "source": [
    "# statistical operations on list\n",
    "max(n3)\n"
   ]
  },
  {
   "cell_type": "code",
   "execution_count": 29,
   "metadata": {},
   "outputs": [
    {
     "data": {
      "text/plain": [
       "1"
      ]
     },
     "execution_count": 29,
     "metadata": {},
     "output_type": "execute_result"
    }
   ],
   "source": [
    "min(n3)\n"
   ]
  },
  {
   "cell_type": "code",
   "execution_count": 30,
   "metadata": {},
   "outputs": [
    {
     "data": {
      "text/plain": [
       "155"
      ]
     },
     "execution_count": 30,
     "metadata": {},
     "output_type": "execute_result"
    }
   ],
   "source": [
    "sum(n3)\n"
   ]
  },
  {
   "cell_type": "code",
   "execution_count": 31,
   "metadata": {},
   "outputs": [
    {
     "data": {
      "text/plain": [
       "11.07"
      ]
     },
     "execution_count": 31,
     "metadata": {},
     "output_type": "execute_result"
    }
   ],
   "source": [
    "round(sum(n3) / len(n3),2)"
   ]
  },
  {
   "cell_type": "code",
   "execution_count": 32,
   "metadata": {},
   "outputs": [
    {
     "data": {
      "text/plain": [
       "['sep', 'oct', 'nov', 'mar', 'jun', 'jul', 'feb', 'aug', 'apr']"
      ]
     },
     "execution_count": 32,
     "metadata": {},
     "output_type": "execute_result"
    }
   ],
   "source": [
    "months\n"
   ]
  },
  {
   "cell_type": "code",
   "execution_count": 33,
   "metadata": {},
   "outputs": [],
   "source": [
    "# changes to a list by making copies\n",
    "# method 1 (shallow copy)\n",
    "months_copy1 = months\n"
   ]
  },
  {
   "cell_type": "code",
   "execution_count": 34,
   "metadata": {},
   "outputs": [
    {
     "data": {
      "text/plain": [
       "True"
      ]
     },
     "execution_count": 34,
     "metadata": {},
     "output_type": "execute_result"
    }
   ],
   "source": [
    "# check if the lists are equal\n",
    "months_copy1==months"
   ]
  },
  {
   "cell_type": "code",
   "execution_count": 35,
   "metadata": {},
   "outputs": [
    {
     "data": {
      "text/plain": [
       "['september',\n",
       " 'oct',\n",
       " 'nov',\n",
       " 'mar',\n",
       " 'jun',\n",
       " 'jul',\n",
       " 'feb',\n",
       " 'aug',\n",
       " 'apr',\n",
       " 'jan',\n",
       " 'may']"
      ]
     },
     "execution_count": 35,
     "metadata": {},
     "output_type": "execute_result"
    }
   ],
   "source": [
    "# make changes to the copy1\n",
    "months_copy1.append('jan')\n",
    "months_copy1.append('may')\n",
    "months_copy1[0] = 'september'\n",
    "months_copy1"
   ]
  },
  {
   "cell_type": "code",
   "execution_count": 36,
   "metadata": {},
   "outputs": [
    {
     "data": {
      "text/plain": [
       "['september',\n",
       " 'oct',\n",
       " 'nov',\n",
       " 'mar',\n",
       " 'jun',\n",
       " 'jul',\n",
       " 'feb',\n",
       " 'aug',\n",
       " 'apr',\n",
       " 'jan',\n",
       " 'may']"
      ]
     },
     "execution_count": 36,
     "metadata": {},
     "output_type": "execute_result"
    }
   ],
   "source": [
    "# check the original list\n",
    "months"
   ]
  },
  {
   "cell_type": "raw",
   "metadata": {},
   "source": [
    "# shallow copy -> when the copy is changed, the original object is also changed"
   ]
  },
  {
   "cell_type": "code",
   "execution_count": 37,
   "metadata": {},
   "outputs": [],
   "source": [
    "# method 2 (Deep copy)\n",
    "months_copy2 = months.copy()\n",
    "\n"
   ]
  },
  {
   "cell_type": "code",
   "execution_count": 38,
   "metadata": {},
   "outputs": [
    {
     "data": {
      "text/plain": [
       "True"
      ]
     },
     "execution_count": 38,
     "metadata": {},
     "output_type": "execute_result"
    }
   ],
   "source": [
    "months_copy2 == months\n",
    "\n"
   ]
  },
  {
   "cell_type": "code",
   "execution_count": 39,
   "metadata": {},
   "outputs": [
    {
     "name": "stdout",
     "output_type": "stream",
     "text": [
      "['sep', 'mar', 'jun', 'jul', 'feb', 'aug', 'apr', 'jan', 'may']\n"
     ]
    }
   ],
   "source": [
    "# change the copy2\n",
    "months_copy2[0] = 'sep'\n",
    "months_copy2.remove('oct')\n",
    "months_copy2.remove('nov')\n",
    "print(months_copy2)\n"
   ]
  },
  {
   "cell_type": "code",
   "execution_count": 40,
   "metadata": {},
   "outputs": [
    {
     "data": {
      "text/plain": [
       "9"
      ]
     },
     "execution_count": 40,
     "metadata": {},
     "output_type": "execute_result"
    }
   ],
   "source": [
    "len(months_copy2)\n",
    "\n"
   ]
  },
  {
   "cell_type": "code",
   "execution_count": 41,
   "metadata": {},
   "outputs": [
    {
     "name": "stdout",
     "output_type": "stream",
     "text": [
      "['september', 'oct', 'nov', 'mar', 'jun', 'jul', 'feb', 'aug', 'apr', 'jan', 'may']\n"
     ]
    }
   ],
   "source": [
    "# check the original list\n",
    "print(months)\n"
   ]
  },
  {
   "cell_type": "code",
   "execution_count": 42,
   "metadata": {},
   "outputs": [
    {
     "data": {
      "text/plain": [
       "[('sbi', 1458, 38380301),\n",
       " ('mrf', 2456, 934019401),\n",
       " ('ongc', 5190, 439349104),\n",
       " ('tatam', 378, 48481001)]"
      ]
     },
     "execution_count": 42,
     "metadata": {},
     "output_type": "execute_result"
    }
   ],
   "source": [
    "# zip() --> form a record from different lists\n",
    "stock = ['sbi','mrf','ongc','tatam']\n",
    "price = [1458,2456,5190,378]\n",
    "traded = [38380301,934019401,439349104,48481001]\n",
    "list(zip(stock,price,traded))\n"
   ]
  },
  {
   "cell_type": "code",
   "execution_count": null,
   "metadata": {},
   "outputs": [],
   "source": [
    "# assignment 1\n",
    "'''\n",
    "create 4 lists to store the results of a binary classification model (create 5 models)\n",
    "\n",
    "list1 -> model name\n",
    "list2 -> accuracy score\n",
    "list3 -> positive class accuracy\n",
    "list4 -> negative class accuracy\n",
    "\n",
    "# list2 -> list4 --> generate the numbers (do not hardcode) and restrict digits after decimals to 3\n",
    "\n",
    "# print the individual model details\n",
    "\n",
    "m1,0.59.56,0.79\n",
    "...\n",
    "...\n",
    "'''"
   ]
  },
  {
   "cell_type": "code",
   "execution_count": 43,
   "metadata": {},
   "outputs": [
    {
     "name": "stdout",
     "output_type": "stream",
     "text": [
      "[0.347, 0.765, 0.139, 0.329, 0.65]\n",
      "[0.598, 0.98, 0.241, 0.739, 0.798]\n",
      "[0.7, 0.566, 0.601, 0.629, 0.441]\n"
     ]
    }
   ],
   "source": [
    "import random as r\n",
    "\n",
    "# empty list\n",
    "acc = []; pos = []; neg = [];\n",
    "for i in range(5):\n",
    "    acc.append(round(r.uniform(0,1),3))\n",
    "    pos.append(round(r.uniform(0,1),3))\n",
    "    neg.append(round(r.uniform(0,1),3))\n",
    "    \n",
    "print(acc)    \n",
    "print(pos)    \n",
    "print(neg)    \n",
    "\n"
   ]
  },
  {
   "cell_type": "code",
   "execution_count": 44,
   "metadata": {},
   "outputs": [],
   "source": [
    "model=['M1','M2','M3','M4','M5']    \n"
   ]
  },
  {
   "cell_type": "code",
   "execution_count": 45,
   "metadata": {},
   "outputs": [
    {
     "data": {
      "text/plain": [
       "[('M1', 0.347, 0.598, 0.7),\n",
       " ('M2', 0.765, 0.98, 0.566),\n",
       " ('M3', 0.139, 0.241, 0.601),\n",
       " ('M4', 0.329, 0.739, 0.629),\n",
       " ('M5', 0.65, 0.798, 0.441)]"
      ]
     },
     "execution_count": 45,
     "metadata": {},
     "output_type": "execute_result"
    }
   ],
   "source": [
    "list(zip(model,acc,pos,neg))\n"
   ]
  },
  {
   "cell_type": "code",
   "execution_count": 46,
   "metadata": {},
   "outputs": [
    {
     "name": "stdout",
     "output_type": "stream",
     "text": [
      "['M1', 'M2', 'M3', 'M4', 'M5']\n"
     ]
    }
   ],
   "source": [
    "print(model)\n"
   ]
  },
  {
   "cell_type": "code",
   "execution_count": 47,
   "metadata": {},
   "outputs": [],
   "source": [
    "# nested list\n",
    "# each element is a list\n",
    "numlist = [\n",
    "        list(range(1,21,2)),\n",
    "        list(range(1,21,4)),\n",
    "        list(range(2,21,2))\n",
    "    ]"
   ]
  },
  {
   "cell_type": "code",
   "execution_count": 48,
   "metadata": {},
   "outputs": [
    {
     "data": {
      "text/plain": [
       "list"
      ]
     },
     "execution_count": 48,
     "metadata": {},
     "output_type": "execute_result"
    }
   ],
   "source": [
    "type(numlist)\n"
   ]
  },
  {
   "cell_type": "code",
   "execution_count": 49,
   "metadata": {},
   "outputs": [
    {
     "data": {
      "text/plain": [
       "3"
      ]
     },
     "execution_count": 49,
     "metadata": {},
     "output_type": "execute_result"
    }
   ],
   "source": [
    "len(numlist)"
   ]
  },
  {
   "cell_type": "code",
   "execution_count": 50,
   "metadata": {},
   "outputs": [
    {
     "data": {
      "text/plain": [
       "[[1, 3, 5, 7, 9, 11, 13, 15, 17, 19],\n",
       " [1, 5, 9, 13, 17],\n",
       " [2, 4, 6, 8, 10, 12, 14, 16, 18, 20]]"
      ]
     },
     "execution_count": 50,
     "metadata": {},
     "output_type": "execute_result"
    }
   ],
   "source": [
    "numlist"
   ]
  },
  {
   "cell_type": "code",
   "execution_count": 51,
   "metadata": {},
   "outputs": [
    {
     "data": {
      "text/plain": [
       "[1, 3, 5, 7, 9, 11, 13, 15, 17, 19]"
      ]
     },
     "execution_count": 51,
     "metadata": {},
     "output_type": "execute_result"
    }
   ],
   "source": [
    "# get the elements\n",
    "numlist[0]"
   ]
  },
  {
   "cell_type": "code",
   "execution_count": 52,
   "metadata": {},
   "outputs": [
    {
     "data": {
      "text/plain": [
       "[1, 3, 5, 7, 9]"
      ]
     },
     "execution_count": 52,
     "metadata": {},
     "output_type": "execute_result"
    }
   ],
   "source": [
    "# get the first 5 numbers from the 1st element\n",
    "numlist[0][0:5]\n"
   ]
  },
  {
   "cell_type": "code",
   "execution_count": 53,
   "metadata": {},
   "outputs": [
    {
     "data": {
      "text/plain": [
       "9"
      ]
     },
     "execution_count": 53,
     "metadata": {},
     "output_type": "execute_result"
    }
   ],
   "source": [
    "\n",
    "# get the maximum value from the first 5 elements of the 1st element\n",
    "max(numlist[0][0:5])\n",
    "\n"
   ]
  },
  {
   "cell_type": "code",
   "execution_count": 54,
   "metadata": {},
   "outputs": [
    {
     "data": {
      "text/plain": [
       "110"
      ]
     },
     "execution_count": 54,
     "metadata": {},
     "output_type": "execute_result"
    }
   ],
   "source": [
    "# find the sum of all even numbers from the list\n",
    "sum(numlist[2])\n",
    "\n",
    "\n"
   ]
  },
  {
   "cell_type": "code",
   "execution_count": null,
   "metadata": {},
   "outputs": [],
   "source": [
    "# create a number table list to store the tables from 2-10 in the following sequence\n",
    "\n",
    "2,4,6,8, ........... 20\n",
    "3,6,9, .............. 30\n",
    "4,8,12 .............. 40\n",
    "....\n",
    "....\n",
    "10,20,30 ............ 100\n",
    "\n",
    "# no hardcoding\n",
    "\n",
    "\n"
   ]
  },
  {
   "cell_type": "code",
   "execution_count": 55,
   "metadata": {},
   "outputs": [
    {
     "name": "stdout",
     "output_type": "stream",
     "text": [
      "[[2, 4, 6, 8, 10, 12, 14, 16, 18], [3, 6, 9, 12, 15, 18, 21, 24, 27], [4, 8, 12, 16, 20, 24, 28, 32, 36], [5, 10, 15, 20, 25, 30, 35, 40, 45], [6, 12, 18, 24, 30, 36, 42, 48, 54], [7, 14, 21, 28, 35, 42, 49, 56, 63], [8, 16, 24, 32, 40, 48, 56, 64, 72], [9, 18, 27, 36, 45, 54, 63, 72, 81], [10, 20, 30, 40, 50, 60, 70, 80, 90]]\n"
     ]
    }
   ],
   "source": [
    "table1=[    #outer list ,parent list\n",
    "list (range(2,20,2)),\n",
    "list(range(3,30,3)),\n",
    "list(range(4,40,4)),\n",
    "list(range(5,50,5)),\n",
    "list(range(6,60,6)),\n",
    "list(range(7,70,7)),\n",
    "list(range(8,80,8)),\n",
    "list(range(9,90,9)),\n",
    "list(range(10,100,10))\n",
    "]  \n",
    "\n",
    "print(table1)\n",
    "\n",
    "\n"
   ]
  },
  {
   "cell_type": "code",
   "execution_count": 61,
   "metadata": {},
   "outputs": [
    {
     "name": "stdout",
     "output_type": "stream",
     "text": [
      "[[2, 4, 6, 8, 10, 12, 14, 16, 18, 20], [3, 6, 9, 12, 15, 18, 21, 24, 27, 30], [4, 8, 12, 16, 20, 24, 28, 32, 36, 40], [5, 10, 15, 20, 25, 30, 35, 40, 45, 50], [6, 12, 18, 24, 30, 36, 42, 48, 54, 60], [7, 14, 21, 28, 35, 42, 49, 56, 63, 70], [8, 16, 24, 32, 40, 48, 56, 64, 72, 80], [9, 18, 27, 36, 45, 54, 63, 72, 81, 90], [10, 20, 30, 40, 50, 60, 70, 80, 90, 100]]\n"
     ]
    }
   ],
   "source": [
    "num=[]\n",
    "for i in range(2,11):\n",
    "    num.append(list(range(i,(i*10)+1,i)))\n",
    "\n",
    " \n",
    "print(num)\n",
    "\n"
   ]
  },
  {
   "cell_type": "markdown",
   "metadata": {},
   "source": [
    "#properties of list\n",
    "#1) collection of hetro homo,mutable(supports change),\n",
    "#it is enclosed within[]\n",
    "#list is an iterable object\n",
    "#deep copy,shallow copy\n",
    "#index function follwed by vlaues\n",
    "#list support duplicate  items\n",
    "#nested=>the elements are list.\n",
    "#can we sort lis?->yes\n",
    "# \n",
    " "
   ]
  }
 ],
 "metadata": {
  "kernelspec": {
   "display_name": "Python 3",
   "language": "python",
   "name": "python3"
  },
  "language_info": {
   "codemirror_mode": {
    "name": "ipython",
    "version": 3
   },
   "file_extension": ".py",
   "mimetype": "text/x-python",
   "name": "python",
   "nbconvert_exporter": "python",
   "pygments_lexer": "ipython3",
   "version": "3.7.6"
  }
 },
 "nbformat": 4,
 "nbformat_minor": 4
}
